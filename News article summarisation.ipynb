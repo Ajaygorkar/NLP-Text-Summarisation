{
 "cells": [
  {
   "cell_type": "code",
   "execution_count": 40,
   "metadata": {},
   "outputs": [],
   "source": [
    "# Imports\n",
    "import requests\n",
    "from bs4 import BeautifulSoup\n",
    "from gensim.summarization import summarize"
   ]
  },
  {
   "cell_type": "code",
   "execution_count": 50,
   "metadata": {},
   "outputs": [],
   "source": [
    "# Retrieve page text\n",
    "url = 'https://www.thehindu.com/todays-paper/pakistan-to-remain-in-terror-financing-watchdogs-grey-list/article30855942.ece'\n",
    "page = requests.get(url).text"
   ]
  },
  {
   "cell_type": "code",
   "execution_count": 51,
   "metadata": {},
   "outputs": [],
   "source": [
    "# Turn page into BeautifulSoup object to access HTML tags\n",
    "soup = BeautifulSoup(page)"
   ]
  },
  {
   "cell_type": "code",
   "execution_count": 52,
   "metadata": {},
   "outputs": [],
   "source": [
    "# Get headline\n",
    "headline = soup.find('h1').get_text()"
   ]
  },
  {
   "cell_type": "code",
   "execution_count": 53,
   "metadata": {},
   "outputs": [],
   "source": [
    "# Get text from all <p> tags.\n",
    "p_tags = soup.find_all('p')\n",
    "# Get the text from each of the “p” tags and strip surrounding whitespace.\n",
    "p_tags_text = [tag.get_text().strip() for tag in p_tags]"
   ]
  },
  {
   "cell_type": "code",
   "execution_count": 86,
   "metadata": {},
   "outputs": [
    {
     "name": "stdout",
     "output_type": "stream",
     "text": [
      "~~~~~~~~~~~~~~~~~~~~~~~~~~~~~~~~~~~~~~~~~~~~~~~~~~~~~~~~~~~~~~~~~~~~~~~~~~~~~~~~~~~~~~~~~~~~~~~~~~~~~~~~~~~~~~~~~~~\n",
      "\t\t\t\t\t\tORIGINAL ARTICLE\n",
      "~~~~~~~~~~~~~~~~~~~~~~~~~~~~~~~~~~~~~~~~~~~~~~~~~~~~~~~~~~~~~~~~~~~~~~~~~~~~~~~~~~~~~~~~~~~~~~~~~~~~~~~~~~~~~~~~~~~\n",
      "Not enough:Protesters seeking the death penalty for Lashkar chief Hafiz Saeed in Mumbai last week. At the FATF meet, Pakistan claimed that it had cracked down on terror operatives.AFPINDRANIL MUKHERJEE The International Co-operation Review Group (ICRG) of the Financial Action Task Force (FATF) on Tuesday recommended that Pakistan be retained on the ‘Grey List’, given its failure to completely implement the 27-point action plan to check terror financing. The final decision would be announced on Friday, at the end of the five-day FATF Plenary session in Paris, sources aware of the proceedings said. It is understood that most of the group members were in favour of continuing the pressure on Pakistan to execute all the measures suggested against funding to banned terror outfits and United Nations designated global terrorists operating from its soil. Speaking in favour of Pakistan, Turkey and Malaysia said Islamabad could be taken off the ‘Grey List’ in coming June. Leaders of these two countries have already gone public on their plans to back Pakistan in the FATF. According to the sources, Pakistan's Minister for Economic Affairs Hamad Azhar assured the group that all the objectives would be achieved as early as June 2020. He claimed that since the last FATF plenary, the country had taken all possible measures against terror financing. Pakistan was presented with the 27-point action plan in the previous FATF meet in October last. Mr. Azhar said Pakistan had acted against transnational terror funding operations on priority and that it had convicted an unprecedented number of persons, which includes Lashkar-e-Taiba (LeT) chief Hafiz Saeed. All the shortcomings identified in the mutual evaluation report would also be addressed soon, he added. India countered Pakistan’s claims, saying the recent action taken by Islamabad against Saeed and others was an attempt to evade further FATF sanctions. While the LeT chief was recently convicted of terror financing, the Pakistani authorities had claimed that a large number of terrorists were arrested, the accounts of banned outfits frozen and the institutions run by them were taken over by the government. India asserted that the terror funding operations were still on and outfits such as the LeT and the Jaish-e-Mohammed, whose chief Masood Azhar's location as per Pakistan is “unknown”, were having a free run in Pakistan. In November last, when Pakistan complied with only five of the 27 action plan points, the FATF asked it to “swiftly complete its full action plan by February 2020”. The FATF statement said: “ ...Otherwise should significant and sustainable progress not be made across the full range of its action plan by next plenary, the FATF will take action, including urging members to advise their financial institutions to give special attention to business relations/transactions with Pakistan.” Find mobile-friendly version of articles from the day's newspaper in one easy-to-read list. Enjoy reading as many articles as you wish without any limitations. A select list of articles that match your interests and tastes. Move smoothly between articles as our pages load instantly. A one-stop-shop for seeing the latest updates, and managing your preferences. We brief you on the latest and most important developments, three times a day. *Our Digital Subscription plans do not currently include the e-paper ,crossword, iPhone, iPad mobile applications and print. Our plans enhance your reading experience. To continue enjoying The Hindu, You can turn off your ad blocker or Subscribe to The Hindu. Sign up for a 30 day free trial.\n"
     ]
    }
   ],
   "source": [
    "# Filter out sentences that contain newline characters '\\n' or don't contain periods.\n",
    "sentence_list = [sentence for sentence in p_tags_text if not '\\n' in sentence]\n",
    "sentence_list = [sentence for sentence in sentence_list if '.' in sentence]\n",
    "# Combine list items into string.\n",
    "article = ' '.join(sentence_list)\n",
    "print(\"~\"*115)\n",
    "print(\"\\t\\t\\t\\t\\t\\tORIGINAL ARTICLE\")\n",
    "print(\"~\"*115)\n",
    "print(article)"
   ]
  },
  {
   "cell_type": "code",
   "execution_count": 55,
   "metadata": {},
   "outputs": [],
   "source": [
    "# summarizing the article\n",
    "summary = summarize(article, ratio=0.1)"
   ]
  },
  {
   "cell_type": "code",
   "execution_count": 56,
   "metadata": {},
   "outputs": [
    {
     "name": "stdout",
     "output_type": "stream",
     "text": [
      "Length of Original Article : 3615\n",
      "Length of Article Summary  : 625\n",
      "~~~~~~~~~~~~~~~~~~~~~~~~~~~~~~~~~~~~~~~~~~~~~~~~~~ HEADLINE ~~~~~~~~~~~~~~~~~~~~~~~~~~~~~~~~~~~~~~~~~~~~~~~~~~~~~~~~~\n",
      "\n",
      "Pakistan to remain in terror financing watchdog’s ‘Grey List’\n",
      "\n",
      "~~~~~~~~~~~~~~~~~~~~~~~~~~~~~~~~~~~~~~~~~~~~~~~~~~ SUMMARY ~~~~~~~~~~~~~~~~~~~~~~~~~~~~~~~~~~~~~~~~~~~~~~~~~~~~~~~~~~\n",
      "Mr. Azhar said Pakistan had acted against transnational terror funding operations on priority and that it had convicted an unprecedented number of persons, which includes Lashkar-e-Taiba (LeT) chief Hafiz Saeed.\n",
      "The FATF statement said: “ ...Otherwise should significant and sustainable progress not be made across the full range of its action plan by next plenary, the FATF will take action, including urging members to advise their financial institutions to give special attention to business relations/transactions with Pakistan.” Find mobile-friendly version of articles from the day's newspaper in one easy-to-read list.\n"
     ]
    }
   ],
   "source": [
    "# printing summary\n",
    "print(\"Length of Original Article :\",len(article))\n",
    "print(\"Length of Article Summary  :\",len(summary))\n",
    "print(\"~\"*50,\"HEADLINE\",\"~\"*57)\n",
    "print(headline)\n",
    "print(\"~\"*50,\"SUMMARY\",\"~\"*58)\n",
    "print(summary)\n"
   ]
  }
 ],
 "metadata": {
  "kernelspec": {
   "display_name": "Python 3",
   "language": "python",
   "name": "python3"
  },
  "language_info": {
   "codemirror_mode": {
    "name": "ipython",
    "version": 3
   },
   "file_extension": ".py",
   "mimetype": "text/x-python",
   "name": "python",
   "nbconvert_exporter": "python",
   "pygments_lexer": "ipython3",
   "version": "3.7.5"
  }
 },
 "nbformat": 4,
 "nbformat_minor": 2
}
